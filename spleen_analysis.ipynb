{
 "cells": [
  {
   "cell_type": "code",
   "execution_count": 2,
   "metadata": {},
   "outputs": [],
   "source": [
    "import os\n",
    "import typing as t\n",
    "import numpy as np\n",
    "from skimage import measure\n",
    "from skimage.morphology import dilation, ball, diamond\n",
    "import numba\n",
    "import numba.typed\n",
    "from sklearn.neighbors import KDTree\n",
    "import functools\n",
    "from copy import copy\n",
    "import itertools\n",
    "import pandas as pd\n",
    "import numpy as np\n",
    "import skimage.morphology\n",
    "import skimage.color\n",
    "from aicsimageio import AICSImage, imread\n",
    "from aicsimageio.writers import OmeTiffWriter\n",
    "import matplotlib.pyplot as plt"
   ]
  },
  {
   "cell_type": "code",
   "execution_count": 3,
   "metadata": {},
   "outputs": [
    {
     "name": "stderr",
     "output_type": "stream",
     "text": [
      "\u001b[32m2024-04-23 09:26:44.927\u001b[0m | \u001b[1mINFO    \u001b[0m | \u001b[36mufish.api\u001b[0m:\u001b[36m_load_onnx\u001b[0m:\u001b[36m249\u001b[0m - \u001b[1mLoading ONNX from d:\\conda\\envs\\test\\lib\\site-packages\\ufish\\model\\weights\\v1.0-alldata-ufish_c32.onnx\u001b[0m\n",
      "d:\\conda\\envs\\test\\lib\\site-packages\\onnxruntime\\capi\\onnxruntime_inference_collection.py:69: UserWarning: Specified provider 'CUDAExecutionProvider' is not in available provider names.Available providers: 'AzureExecutionProvider, CPUExecutionProvider'\n",
      "  warnings.warn(\n"
     ]
    },
    {
     "data": {
      "text/plain": [
       "<ufish.api.UFish at 0x25a850fc310>"
      ]
     },
     "execution_count": 3,
     "metadata": {},
     "output_type": "execute_result"
    }
   ],
   "source": [
    "from ufish.api import UFish\n",
    "ufish = UFish()\n",
    "ufish.load_weights()"
   ]
  },
  {
   "cell_type": "code",
   "execution_count": 4,
   "metadata": {},
   "outputs": [],
   "source": [
    "import os\n",
    "import numpy as np\n",
    "import pandas as pd\n",
    "\n",
    "from skimage.io import imread, imsave\n",
    "from skimage.measure import label, regionprops\n",
    "import matplotlib.pyplot as plt\n",
    "from cellpose import models, io"
   ]
  },
  {
   "cell_type": "code",
   "execution_count": 2,
   "metadata": {},
   "outputs": [
    {
     "name": "stdout",
     "output_type": "stream",
     "text": [
      "2024-04-23 07:34:18,398 [INFO] WRITING LOG OUTPUT TO C:\\Users\\woikaka\\.cellpose\\run.log\n",
      "2024-04-23 07:34:18,399 [INFO] \n",
      "cellpose version: \t3.0.5 \n",
      "platform:       \twin32 \n",
      "python version: \t3.10.6 \n",
      "torch version:  \t2.0.0+cpu\n",
      "2024-04-23 07:34:18,399 [INFO] >>>> using CPU\n",
      "2024-04-23 07:34:18,401 [INFO] >> nuclei << model set to be used\n",
      "2024-04-23 07:34:18,598 [INFO] >>>> model diam_mean =  17.000 (ROIs rescaled to this size during training)\n"
     ]
    }
   ],
   "source": [
    "io.logger_setup()\n",
    "# model_type='cyto' or 'nuclei' or 'cyto2' or 'cyto3'\n",
    "model = models.Cellpose(model_type='nuclei')"
   ]
  },
  {
   "cell_type": "code",
   "execution_count": 13,
   "metadata": {},
   "outputs": [],
   "source": [
    "from skimage.filters import gaussian\n",
    "from skimage.morphology import remove_small_objects\n"
   ]
  },
  {
   "cell_type": "code",
   "execution_count": 11,
   "metadata": {},
   "outputs": [],
   "source": [
    "def prefilter(img, sigma1=2, sigma2=5):\n",
    "    img1 = gaussian(img, sigma=sigma1)\n",
    "    img2 = gaussian(img, sigma=sigma2)\n",
    "    return img1 - img2"
   ]
  },
  {
   "cell_type": "code",
   "execution_count": 17,
   "metadata": {},
   "outputs": [
    {
     "name": "stdout",
     "output_type": "stream",
     "text": [
      "2024-04-23 08:31:44,917 [INFO] channels set to [0, 0]\n",
      "2024-04-23 08:31:44,918 [INFO] ~~~ FINDING MASKS ~~~\n",
      "2024-04-23 08:32:37,398 [INFO] >>>> TOTAL TIME 52.48 sec\n"
     ]
    },
    {
     "name": "stderr",
     "output_type": "stream",
     "text": [
      "C:\\Users\\woikaka\\AppData\\Local\\Temp\\ipykernel_24032\\1921646682.py:14: UserWarning: ./ASFV/A2-1.tif is a low contrast image\n",
      "  imsave(f'./ASFV/{name}.tif', masks_filtered)\n"
     ]
    },
    {
     "name": "stdout",
     "output_type": "stream",
     "text": [
      "2024-04-23 08:32:37,749 [INFO] channels set to [0, 0]\n",
      "2024-04-23 08:32:37,750 [INFO] ~~~ FINDING MASKS ~~~\n",
      "2024-04-23 08:33:31,526 [INFO] >>>> TOTAL TIME 53.78 sec\n"
     ]
    },
    {
     "name": "stderr",
     "output_type": "stream",
     "text": [
      "C:\\Users\\woikaka\\AppData\\Local\\Temp\\ipykernel_24032\\1921646682.py:14: UserWarning: ./ASFV/A2-2.tif is a low contrast image\n",
      "  imsave(f'./ASFV/{name}.tif', masks_filtered)\n"
     ]
    },
    {
     "name": "stdout",
     "output_type": "stream",
     "text": [
      "2024-04-23 08:33:31,946 [INFO] channels set to [0, 0]\n",
      "2024-04-23 08:33:31,947 [INFO] ~~~ FINDING MASKS ~~~\n",
      "2024-04-23 08:34:27,376 [INFO] >>>> TOTAL TIME 55.43 sec\n"
     ]
    },
    {
     "name": "stderr",
     "output_type": "stream",
     "text": [
      "C:\\Users\\woikaka\\AppData\\Local\\Temp\\ipykernel_24032\\1921646682.py:14: UserWarning: ./ASFV/A2-3.tif is a low contrast image\n",
      "  imsave(f'./ASFV/{name}.tif', masks_filtered)\n"
     ]
    },
    {
     "name": "stdout",
     "output_type": "stream",
     "text": [
      "2024-04-23 08:34:27,808 [INFO] channels set to [0, 0]\n",
      "2024-04-23 08:34:27,809 [INFO] ~~~ FINDING MASKS ~~~\n",
      "2024-04-23 08:35:30,102 [INFO] >>>> TOTAL TIME 62.29 sec\n"
     ]
    },
    {
     "name": "stderr",
     "output_type": "stream",
     "text": [
      "C:\\Users\\woikaka\\AppData\\Local\\Temp\\ipykernel_24032\\1921646682.py:14: UserWarning: ./ASFV/A3-1.tif is a low contrast image\n",
      "  imsave(f'./ASFV/{name}.tif', masks_filtered)\n"
     ]
    },
    {
     "name": "stdout",
     "output_type": "stream",
     "text": [
      "2024-04-23 08:35:30,497 [INFO] channels set to [0, 0]\n",
      "2024-04-23 08:35:30,498 [INFO] ~~~ FINDING MASKS ~~~\n",
      "2024-04-23 08:36:27,032 [INFO] >>>> TOTAL TIME 56.54 sec\n"
     ]
    },
    {
     "name": "stderr",
     "output_type": "stream",
     "text": [
      "C:\\Users\\woikaka\\AppData\\Local\\Temp\\ipykernel_24032\\1921646682.py:14: UserWarning: ./ASFV/A3-2.tif is a low contrast image\n",
      "  imsave(f'./ASFV/{name}.tif', masks_filtered)\n"
     ]
    },
    {
     "name": "stdout",
     "output_type": "stream",
     "text": [
      "2024-04-23 08:36:27,373 [INFO] channels set to [0, 0]\n",
      "2024-04-23 08:36:27,373 [INFO] ~~~ FINDING MASKS ~~~\n",
      "2024-04-23 08:37:22,494 [INFO] >>>> TOTAL TIME 55.12 sec\n"
     ]
    },
    {
     "name": "stderr",
     "output_type": "stream",
     "text": [
      "C:\\Users\\woikaka\\AppData\\Local\\Temp\\ipykernel_24032\\1921646682.py:14: UserWarning: ./ASFV/A3-3.tif is a low contrast image\n",
      "  imsave(f'./ASFV/{name}.tif', masks_filtered)\n"
     ]
    },
    {
     "name": "stdout",
     "output_type": "stream",
     "text": [
      "2024-04-23 08:37:22,856 [INFO] channels set to [0, 0]\n",
      "2024-04-23 08:37:22,857 [INFO] ~~~ FINDING MASKS ~~~\n",
      "2024-04-23 08:38:13,419 [INFO] >>>> TOTAL TIME 50.56 sec\n"
     ]
    },
    {
     "name": "stderr",
     "output_type": "stream",
     "text": [
      "C:\\Users\\woikaka\\AppData\\Local\\Temp\\ipykernel_24032\\1921646682.py:14: UserWarning: ./ASFV/A4-1.tif is a low contrast image\n",
      "  imsave(f'./ASFV/{name}.tif', masks_filtered)\n"
     ]
    },
    {
     "name": "stdout",
     "output_type": "stream",
     "text": [
      "2024-04-23 08:38:13,766 [INFO] channels set to [0, 0]\n",
      "2024-04-23 08:38:13,767 [INFO] ~~~ FINDING MASKS ~~~\n",
      "2024-04-23 08:39:00,538 [INFO] >>>> TOTAL TIME 46.77 sec\n"
     ]
    },
    {
     "name": "stderr",
     "output_type": "stream",
     "text": [
      "C:\\Users\\woikaka\\AppData\\Local\\Temp\\ipykernel_24032\\1921646682.py:14: UserWarning: ./ASFV/A4-2.tif is a low contrast image\n",
      "  imsave(f'./ASFV/{name}.tif', masks_filtered)\n"
     ]
    },
    {
     "name": "stdout",
     "output_type": "stream",
     "text": [
      "2024-04-23 08:39:00,924 [INFO] channels set to [0, 0]\n",
      "2024-04-23 08:39:00,924 [INFO] ~~~ FINDING MASKS ~~~\n",
      "2024-04-23 08:39:48,487 [INFO] >>>> TOTAL TIME 47.56 sec\n"
     ]
    },
    {
     "name": "stderr",
     "output_type": "stream",
     "text": [
      "C:\\Users\\woikaka\\AppData\\Local\\Temp\\ipykernel_24032\\1921646682.py:14: UserWarning: ./ASFV/A4-3.tif is a low contrast image\n",
      "  imsave(f'./ASFV/{name}.tif', masks_filtered)\n"
     ]
    },
    {
     "name": "stdout",
     "output_type": "stream",
     "text": [
      "2024-04-23 08:39:48,830 [INFO] channels set to [0, 0]\n",
      "2024-04-23 08:39:48,831 [INFO] ~~~ FINDING MASKS ~~~\n",
      "2024-04-23 08:40:27,332 [INFO] >>>> TOTAL TIME 38.50 sec\n"
     ]
    },
    {
     "name": "stderr",
     "output_type": "stream",
     "text": [
      "C:\\Users\\woikaka\\AppData\\Local\\Temp\\ipykernel_24032\\1921646682.py:14: UserWarning: ./ASFV/A5-1.tif is a low contrast image\n",
      "  imsave(f'./ASFV/{name}.tif', masks_filtered)\n"
     ]
    },
    {
     "name": "stdout",
     "output_type": "stream",
     "text": [
      "2024-04-23 08:40:27,719 [INFO] channels set to [0, 0]\n",
      "2024-04-23 08:40:27,720 [INFO] ~~~ FINDING MASKS ~~~\n",
      "2024-04-23 08:41:07,931 [INFO] >>>> TOTAL TIME 40.21 sec\n"
     ]
    },
    {
     "name": "stderr",
     "output_type": "stream",
     "text": [
      "C:\\Users\\woikaka\\AppData\\Local\\Temp\\ipykernel_24032\\1921646682.py:14: UserWarning: ./ASFV/A5-2.tif is a low contrast image\n",
      "  imsave(f'./ASFV/{name}.tif', masks_filtered)\n"
     ]
    },
    {
     "name": "stdout",
     "output_type": "stream",
     "text": [
      "2024-04-23 08:41:08,262 [INFO] channels set to [0, 0]\n",
      "2024-04-23 08:41:08,263 [INFO] ~~~ FINDING MASKS ~~~\n",
      "2024-04-23 08:41:45,256 [INFO] >>>> TOTAL TIME 36.99 sec\n"
     ]
    },
    {
     "name": "stderr",
     "output_type": "stream",
     "text": [
      "C:\\Users\\woikaka\\AppData\\Local\\Temp\\ipykernel_24032\\1921646682.py:14: UserWarning: ./ASFV/A5-3.tif is a low contrast image\n",
      "  imsave(f'./ASFV/{name}.tif', masks_filtered)\n"
     ]
    },
    {
     "name": "stdout",
     "output_type": "stream",
     "text": [
      "2024-04-23 08:41:45,606 [INFO] channels set to [0, 0]\n",
      "2024-04-23 08:41:45,607 [INFO] ~~~ FINDING MASKS ~~~\n",
      "2024-04-23 08:42:27,322 [INFO] >>>> TOTAL TIME 41.72 sec\n"
     ]
    },
    {
     "name": "stderr",
     "output_type": "stream",
     "text": [
      "C:\\Users\\woikaka\\AppData\\Local\\Temp\\ipykernel_24032\\1921646682.py:14: UserWarning: ./ASFV/A6-1.tif is a low contrast image\n",
      "  imsave(f'./ASFV/{name}.tif', masks_filtered)\n"
     ]
    },
    {
     "name": "stdout",
     "output_type": "stream",
     "text": [
      "2024-04-23 08:42:27,678 [INFO] channels set to [0, 0]\n",
      "2024-04-23 08:42:27,679 [INFO] ~~~ FINDING MASKS ~~~\n",
      "2024-04-23 08:43:12,535 [INFO] >>>> TOTAL TIME 44.86 sec\n"
     ]
    },
    {
     "name": "stderr",
     "output_type": "stream",
     "text": [
      "C:\\Users\\woikaka\\AppData\\Local\\Temp\\ipykernel_24032\\1921646682.py:14: UserWarning: ./ASFV/A6-2.tif is a low contrast image\n",
      "  imsave(f'./ASFV/{name}.tif', masks_filtered)\n"
     ]
    },
    {
     "name": "stdout",
     "output_type": "stream",
     "text": [
      "2024-04-23 08:43:12,877 [INFO] channels set to [0, 0]\n",
      "2024-04-23 08:43:12,879 [INFO] ~~~ FINDING MASKS ~~~\n",
      "2024-04-23 08:43:56,498 [INFO] >>>> TOTAL TIME 43.62 sec\n"
     ]
    },
    {
     "name": "stderr",
     "output_type": "stream",
     "text": [
      "C:\\Users\\woikaka\\AppData\\Local\\Temp\\ipykernel_24032\\1921646682.py:14: UserWarning: ./ASFV/A6-3.tif is a low contrast image\n",
      "  imsave(f'./ASFV/{name}.tif', masks_filtered)\n"
     ]
    }
   ],
   "source": [
    "ctl_path = './脾脏/ASFV/'\n",
    "ctl_files = os.listdir(ctl_path)\n",
    "\n",
    "for file in ctl_files:\n",
    "    img = imread(os.path.join(ctl_path, file))\n",
    "    dapi = img[:, :, 3]\n",
    "    _dapi = prefilter(dapi)\n",
    "    masks, flows, styles, diams = model.eval(_dapi, diameter = 30, \n",
    "                                             flow_threshold = 6.40,\n",
    "                                             cellprob_threshold = -6.00,\n",
    "                                             min_size = 15)\n",
    "    masks_filtered = remove_small_objects(masks, min_size=128)\n",
    "    name = file.split(\".\")[0]\n",
    "    imsave(f'./ASFV/{name}.tif', masks_filtered)\n"
   ]
  },
  {
   "cell_type": "code",
   "execution_count": 14,
   "metadata": {},
   "outputs": [
    {
     "name": "stdout",
     "output_type": "stream",
     "text": [
      "2024-04-23 08:17:11,153 [INFO] channels set to [0, 0]\n",
      "2024-04-23 08:17:11,154 [INFO] ~~~ FINDING MASKS ~~~\n",
      "2024-04-23 08:18:06,365 [INFO] >>>> TOTAL TIME 55.21 sec\n"
     ]
    },
    {
     "name": "stderr",
     "output_type": "stream",
     "text": [
      "C:\\Users\\woikaka\\AppData\\Local\\Temp\\ipykernel_24032\\3317199860.py:14: UserWarning: ./Mock/C1-1.tif is a low contrast image\n",
      "  imsave(f'./Mock/{name}.tif', masks_filtered)\n"
     ]
    },
    {
     "name": "stdout",
     "output_type": "stream",
     "text": [
      "2024-04-23 08:18:06,765 [INFO] channels set to [0, 0]\n",
      "2024-04-23 08:18:06,766 [INFO] ~~~ FINDING MASKS ~~~\n",
      "2024-04-23 08:19:04,614 [INFO] >>>> TOTAL TIME 57.85 sec\n"
     ]
    },
    {
     "name": "stderr",
     "output_type": "stream",
     "text": [
      "C:\\Users\\woikaka\\AppData\\Local\\Temp\\ipykernel_24032\\3317199860.py:14: UserWarning: ./Mock/C1-2.tif is a low contrast image\n",
      "  imsave(f'./Mock/{name}.tif', masks_filtered)\n"
     ]
    },
    {
     "name": "stdout",
     "output_type": "stream",
     "text": [
      "2024-04-23 08:19:04,979 [INFO] channels set to [0, 0]\n",
      "2024-04-23 08:19:04,980 [INFO] ~~~ FINDING MASKS ~~~\n",
      "2024-04-23 08:20:06,149 [INFO] >>>> TOTAL TIME 61.17 sec\n"
     ]
    },
    {
     "name": "stderr",
     "output_type": "stream",
     "text": [
      "C:\\Users\\woikaka\\AppData\\Local\\Temp\\ipykernel_24032\\3317199860.py:14: UserWarning: ./Mock/C1-3.tif is a low contrast image\n",
      "  imsave(f'./Mock/{name}.tif', masks_filtered)\n"
     ]
    },
    {
     "name": "stdout",
     "output_type": "stream",
     "text": [
      "2024-04-23 08:20:06,470 [INFO] channels set to [0, 0]\n",
      "2024-04-23 08:20:06,471 [INFO] ~~~ FINDING MASKS ~~~\n",
      "2024-04-23 08:21:00,416 [INFO] >>>> TOTAL TIME 53.95 sec\n"
     ]
    },
    {
     "name": "stderr",
     "output_type": "stream",
     "text": [
      "C:\\Users\\woikaka\\AppData\\Local\\Temp\\ipykernel_24032\\3317199860.py:14: UserWarning: ./Mock/C2-1.tif is a low contrast image\n",
      "  imsave(f'./Mock/{name}.tif', masks_filtered)\n"
     ]
    },
    {
     "name": "stdout",
     "output_type": "stream",
     "text": [
      "2024-04-23 08:21:00,782 [INFO] channels set to [0, 0]\n",
      "2024-04-23 08:21:00,782 [INFO] ~~~ FINDING MASKS ~~~\n",
      "2024-04-23 08:21:55,325 [INFO] >>>> TOTAL TIME 54.54 sec\n"
     ]
    },
    {
     "name": "stderr",
     "output_type": "stream",
     "text": [
      "C:\\Users\\woikaka\\AppData\\Local\\Temp\\ipykernel_24032\\3317199860.py:14: UserWarning: ./Mock/C2-2.tif is a low contrast image\n",
      "  imsave(f'./Mock/{name}.tif', masks_filtered)\n"
     ]
    },
    {
     "name": "stdout",
     "output_type": "stream",
     "text": [
      "2024-04-23 08:21:55,690 [INFO] channels set to [0, 0]\n",
      "2024-04-23 08:21:55,690 [INFO] ~~~ FINDING MASKS ~~~\n",
      "2024-04-23 08:22:53,203 [INFO] >>>> TOTAL TIME 57.51 sec\n"
     ]
    },
    {
     "name": "stderr",
     "output_type": "stream",
     "text": [
      "C:\\Users\\woikaka\\AppData\\Local\\Temp\\ipykernel_24032\\3317199860.py:14: UserWarning: ./Mock/C2-3.tif is a low contrast image\n",
      "  imsave(f'./Mock/{name}.tif', masks_filtered)\n"
     ]
    },
    {
     "name": "stdout",
     "output_type": "stream",
     "text": [
      "2024-04-23 08:22:53,535 [INFO] channels set to [0, 0]\n",
      "2024-04-23 08:22:53,535 [INFO] ~~~ FINDING MASKS ~~~\n",
      "2024-04-23 08:23:44,376 [INFO] >>>> TOTAL TIME 50.84 sec\n"
     ]
    },
    {
     "name": "stderr",
     "output_type": "stream",
     "text": [
      "C:\\Users\\woikaka\\AppData\\Local\\Temp\\ipykernel_24032\\3317199860.py:14: UserWarning: ./Mock/C4-1.tif is a low contrast image\n",
      "  imsave(f'./Mock/{name}.tif', masks_filtered)\n"
     ]
    },
    {
     "name": "stdout",
     "output_type": "stream",
     "text": [
      "2024-04-23 08:23:44,729 [INFO] channels set to [0, 0]\n",
      "2024-04-23 08:23:44,730 [INFO] ~~~ FINDING MASKS ~~~\n",
      "2024-04-23 08:24:37,463 [INFO] >>>> TOTAL TIME 52.73 sec\n"
     ]
    },
    {
     "name": "stderr",
     "output_type": "stream",
     "text": [
      "C:\\Users\\woikaka\\AppData\\Local\\Temp\\ipykernel_24032\\3317199860.py:14: UserWarning: ./Mock/C4-2.tif is a low contrast image\n",
      "  imsave(f'./Mock/{name}.tif', masks_filtered)\n"
     ]
    },
    {
     "name": "stdout",
     "output_type": "stream",
     "text": [
      "2024-04-23 08:24:37,806 [INFO] channels set to [0, 0]\n",
      "2024-04-23 08:24:37,807 [INFO] ~~~ FINDING MASKS ~~~\n",
      "2024-04-23 08:25:30,165 [INFO] >>>> TOTAL TIME 52.36 sec\n"
     ]
    },
    {
     "name": "stderr",
     "output_type": "stream",
     "text": [
      "C:\\Users\\woikaka\\AppData\\Local\\Temp\\ipykernel_24032\\3317199860.py:14: UserWarning: ./Mock/C4-3.tif is a low contrast image\n",
      "  imsave(f'./Mock/{name}.tif', masks_filtered)\n"
     ]
    },
    {
     "name": "stdout",
     "output_type": "stream",
     "text": [
      "2024-04-23 08:25:30,529 [INFO] channels set to [0, 0]\n",
      "2024-04-23 08:25:30,530 [INFO] ~~~ FINDING MASKS ~~~\n",
      "2024-04-23 08:26:30,775 [INFO] >>>> TOTAL TIME 60.25 sec\n"
     ]
    },
    {
     "name": "stderr",
     "output_type": "stream",
     "text": [
      "C:\\Users\\woikaka\\AppData\\Local\\Temp\\ipykernel_24032\\3317199860.py:14: UserWarning: ./Mock/C5-1.tif is a low contrast image\n",
      "  imsave(f'./Mock/{name}.tif', masks_filtered)\n"
     ]
    },
    {
     "name": "stdout",
     "output_type": "stream",
     "text": [
      "2024-04-23 08:26:31,114 [INFO] channels set to [0, 0]\n",
      "2024-04-23 08:26:31,114 [INFO] ~~~ FINDING MASKS ~~~\n",
      "2024-04-23 08:27:29,159 [INFO] >>>> TOTAL TIME 58.05 sec\n",
      "2024-04-23 08:27:29,469 [INFO] channels set to [0, 0]\n",
      "2024-04-23 08:27:29,470 [INFO] ~~~ FINDING MASKS ~~~\n",
      "2024-04-23 08:28:20,406 [INFO] >>>> TOTAL TIME 50.94 sec\n"
     ]
    },
    {
     "name": "stderr",
     "output_type": "stream",
     "text": [
      "C:\\Users\\woikaka\\AppData\\Local\\Temp\\ipykernel_24032\\3317199860.py:14: UserWarning: ./Mock/C5-3.tif is a low contrast image\n",
      "  imsave(f'./Mock/{name}.tif', masks_filtered)\n"
     ]
    },
    {
     "name": "stdout",
     "output_type": "stream",
     "text": [
      "2024-04-23 08:28:20,735 [INFO] channels set to [0, 0]\n",
      "2024-04-23 08:28:20,736 [INFO] ~~~ FINDING MASKS ~~~\n",
      "2024-04-23 08:29:15,136 [INFO] >>>> TOTAL TIME 54.40 sec\n"
     ]
    },
    {
     "name": "stderr",
     "output_type": "stream",
     "text": [
      "C:\\Users\\woikaka\\AppData\\Local\\Temp\\ipykernel_24032\\3317199860.py:14: UserWarning: ./Mock/C6-1.tif is a low contrast image\n",
      "  imsave(f'./Mock/{name}.tif', masks_filtered)\n"
     ]
    },
    {
     "name": "stdout",
     "output_type": "stream",
     "text": [
      "2024-04-23 08:29:15,504 [INFO] channels set to [0, 0]\n",
      "2024-04-23 08:29:15,504 [INFO] ~~~ FINDING MASKS ~~~\n",
      "2024-04-23 08:30:07,943 [INFO] >>>> TOTAL TIME 52.44 sec\n"
     ]
    },
    {
     "name": "stderr",
     "output_type": "stream",
     "text": [
      "C:\\Users\\woikaka\\AppData\\Local\\Temp\\ipykernel_24032\\3317199860.py:14: UserWarning: ./Mock/C6-2.tif is a low contrast image\n",
      "  imsave(f'./Mock/{name}.tif', masks_filtered)\n"
     ]
    },
    {
     "name": "stdout",
     "output_type": "stream",
     "text": [
      "2024-04-23 08:30:08,334 [INFO] channels set to [0, 0]\n",
      "2024-04-23 08:30:08,335 [INFO] ~~~ FINDING MASKS ~~~\n",
      "2024-04-23 08:30:58,763 [INFO] >>>> TOTAL TIME 50.43 sec\n"
     ]
    },
    {
     "name": "stderr",
     "output_type": "stream",
     "text": [
      "C:\\Users\\woikaka\\AppData\\Local\\Temp\\ipykernel_24032\\3317199860.py:14: UserWarning: ./Mock/C6-3.tif is a low contrast image\n",
      "  imsave(f'./Mock/{name}.tif', masks_filtered)\n"
     ]
    }
   ],
   "source": [
    "ctl_path = './脾脏/脾脏/'\n",
    "ctl_files = os.listdir(ctl_path)\n",
    "\n",
    "for file in ctl_files:\n",
    "    img = imread(os.path.join(ctl_path, file))\n",
    "    dapi = img[:, :, 3]\n",
    "    _dapi = prefilter(dapi)\n",
    "    masks, flows, styles, diams = model.eval(_dapi, diameter = 30, \n",
    "                                             flow_threshold = 6.40,\n",
    "                                             cellprob_threshold = -6.00,\n",
    "                                             min_size = 15)\n",
    "    masks_filtered = remove_small_objects(masks, min_size=128)\n",
    "    name = file.split(\".\")[0]\n",
    "    imsave(f'./Mock/{name}.tif', masks_filtered)\n"
   ]
  },
  {
   "cell_type": "code",
   "execution_count": 5,
   "metadata": {},
   "outputs": [],
   "source": [
    "def cc_centroids(mask):\n",
    "    if mask.dtype == bool:\n",
    "        mask = label(mask)\n",
    "    ccs = regionprops(mask)\n",
    "    centroids, labels = [], []\n",
    "    for cc in ccs:\n",
    "        centroids.append(cc.centroid)\n",
    "        labels.append(cc.label)\n",
    "    return np.array(centroids), np.array(labels)\n",
    "\n",
    "\n",
    "def coordinates_to_mask(points: np.ndarray,\n",
    "                        shape: t.Optional[t.Tuple] = None) -> np.ndarray:\n",
    "\n",
    "  \n",
    "    points = points.astype(np.int64)\n",
    "    dim_max = tuple([points[:, i].max()+1 for i in range(points.shape[1])])\n",
    "    if shape is None:\n",
    "        shape = dim_max\n",
    "    else:\n",
    "        assert len(shape) == points.shape[1]\n",
    "        shape = tuple([shape[i] or dim_max[i] for i in range(points.shape[1])])\n",
    "    arr = np.zeros(shape, dtype=bool)\n",
    "    ix = tuple(points[:, d] for d in range(points.shape[1]))\n",
    "    arr[ix] = True\n",
    "    return arr\n",
    "\n",
    "\n",
    "def merge_close_points_cc(points,\n",
    "                          radius =2) :\n",
    "\n",
    "    assert points.shape[1] in {2, 3}\n",
    "    radius -= 1\n",
    "    mask = coordinates_to_mask(points)\n",
    "    if radius > 0:\n",
    "        if points.shape[1] == 2:\n",
    "            se = diamond(radius)\n",
    "        else:\n",
    "            se = ball(radius)\n",
    "        mask = dilation(mask, se)\n",
    "    centroids, _ = cc_centroids(mask)\n",
    "    return centroids\n",
    "\n",
    "def expand_N(seq, bases=\"ACGT\"):\n",
    "    \"\"\"Expand N in seq to ACGT\n",
    "\n",
    "    >>> expand_N(\"AN\")\n",
    "    ['AA', 'AC', 'AG', 'AT']\n",
    "    \"\"\"\n",
    "    res = []\n",
    "    N_pos = [i for i in range(len(seq)) if seq[i] == \"N\"]\n",
    "    perm = itertools.product(bases, repeat=len(N_pos))\n",
    "    for s in perm:\n",
    "        seq_rep = list(seq)\n",
    "        for i, p in enumerate(N_pos):\n",
    "            seq_rep[p] = s[i]\n",
    "        res.append(\"\".join(seq_rep))\n",
    "    return res\n",
    "\n",
    "def extract_sub_mats(\n",
    "        img, points,\n",
    "        sub_shape, border_value = 0) :\n",
    "\n",
    "    points = points.astype(np.int64)\n",
    "    assert len(sub_shape) in (2, 3)\n",
    "    # add border to image\n",
    "    radius = [d // 2 for d in sub_shape]\n",
    "    shape_with_border = [\n",
    "        d + 2*radius[i]\n",
    "        for i, d in enumerate(img.shape)\n",
    "    ]\n",
    "    img_with_border = np.full(\n",
    "        tuple(shape_with_border),\n",
    "        border_value, dtype=img.dtype\n",
    "    )\n",
    "    slices = [\n",
    "        slice(radius[i], radius[i] + d)\n",
    "        for i, d in enumerate(img.shape)\n",
    "    ]\n",
    "    img_with_border[tuple(slices)] = img\n",
    "    # extract sub matrices\n",
    "    radius = numba.typed.List(radius)\n",
    "    if len(radius) == 2:\n",
    "        subs = _extract_sub_mat_2d(img_with_border, points, radius)\n",
    "    else:\n",
    "        subs = _extract_sub_mat_3d(img_with_border, points, radius)\n",
    "    sub_matrices = np.array(subs)\n",
    "    return sub_matrices\n",
    "\n",
    "\n",
    "@numba.jit(nopython=True)\n",
    "def _extract_sub_mat_2d(img_with_border, points, radius):\n",
    "    subs = []\n",
    "    for i in range(points.shape[0]):\n",
    "        y = points[i, 0]\n",
    "        x = points[i, 1]\n",
    "        r0 = radius[0]\n",
    "        r1 = radius[1]\n",
    "        sub = img_with_border[\n",
    "            y:y+2*r0+1,\n",
    "            x:x+2*r1+1,\n",
    "        ]\n",
    "        subs.append(sub)\n",
    "    return subs\n",
    "\n",
    "\n",
    "@numba.jit(nopython=True)\n",
    "def _extract_sub_mat_3d(img_with_border, points, radius):\n",
    "    subs = []\n",
    "    for i in range(points.shape[0]):\n",
    "        z = points[i, 0]\n",
    "        y = points[i, 1]\n",
    "        x = points[i, 2]\n",
    "        r0 = radius[0]\n",
    "        r1 = radius[1]\n",
    "        r2 = radius[2]\n",
    "        sub = img_with_border[\n",
    "            z:z+2*r0+1,\n",
    "            y:y+2*r1+1,\n",
    "            x:x+2*r2+1\n",
    "        ]\n",
    "        subs.append(sub)\n",
    "    return subs\n",
    "\n",
    "\n",
    "def assign_spots(\n",
    "        spots,\n",
    "        mask,\n",
    "        dist_th,\n",
    "        max_iter=0,\n",
    "        iter_dist_step=10,\n",
    "        ):\n",
    "\n",
    "    assert len(mask.shape) in (2, 3)\n",
    "    centers, labels = cc_centroids(mask)\n",
    "    assert centers.shape[1] == len(mask.shape)\n",
    "    search_map = np.zeros(  # label(index) -> center(value)\n",
    "        (labels.max(), centers.shape[1]), dtype=centers.dtype)\n",
    "    search_map[labels - 1] = centers\n",
    "    pos_each_axes = np.where(mask > 0)\n",
    "    pos_ = np.c_[pos_each_axes]\n",
    "    tree = KDTree(pos_)\n",
    "    dist, idx = tree.query(spots)\n",
    "    dist, idx = np.concatenate(dist), np.concatenate(idx)\n",
    "    clost = pos_[idx, :]\n",
    "    if centers.shape[1] == 2:\n",
    "        mask_val = mask[clost[:, 0], clost[:, 1]]\n",
    "    else:\n",
    "        mask_val = mask[clost[:, 0], clost[:, 1], clost[:, 2]]\n",
    "    res = search_map[mask_val - 1]\n",
    "    res[dist > dist_th, :] = np.nan\n",
    "\n",
    "    # Iteratively find neighbors\n",
    "    for _ in range(max_iter):\n",
    "        nan_idxs = np.where(np.isnan(res))[0]\n",
    "        if nan_idxs.shape[0] == 0:\n",
    "            break\n",
    "        non_nan_idxs = np.where(~np.isnan(res))[0]\n",
    "        non_nan_res = res[non_nan_idxs]\n",
    "        non_nan_pos = spots[non_nan_idxs, :]\n",
    "        tree = KDTree(non_nan_pos)\n",
    "        nan_pos = spots[nan_idxs, :]\n",
    "        dist, idx = tree.query(nan_pos)\n",
    "        dist, idx = np.concatenate(dist), np.concatenate(idx)\n",
    "        nan_res = non_nan_res[idx]\n",
    "        nan_res[dist > iter_dist_step] = np.nan\n",
    "        res[nan_idxs] = nan_res\n",
    "\n",
    "    return res\n",
    "\n",
    "def ReadImage(path):\n",
    "    img = AICSImage(path)\n",
    "    return img\n",
    "\n",
    "def tophat_extrema(\n",
    "        img,\n",
    "        q,  # type: ignore\n",
    "        ):\n",
    "    t = skimage.morphology.white_tophat(img)\n",
    "    h = np.quantile(t, q/100)\n",
    "    spots = np.c_[np.where(skimage.morphology.extrema.h_maxima(t, h))]\n",
    "    return spots\n",
    "\n",
    "def merge_spots(\n",
    "        coords, radius  # type: ignore\n",
    "        ) :  # noqa\n",
    "    res = merge_close_points_cc(coords, radius)\n",
    "    return res\n",
    "\n",
    "def extract_fetures(\n",
    "        img, coords,\n",
    "        sub_shape= \"None\",\n",
    "        ) :  # noqa\n",
    "\n",
    "    sub_shape = eval(sub_shape)\n",
    "    c = coords\n",
    "    im = img\n",
    "    if sub_shape is None:\n",
    "        features = im[:, c[:, 0], c[:, 1], c[:, 2]]\n",
    "    else:\n",
    "        features = np.array([\n",
    "            extract_sub_mats(img[ixch], coords, sub_shape)\n",
    "            for ixch in range(img.shape[0])\n",
    "        ])\n",
    "    return features\n",
    "\n",
    "def parse_one_cycle(\n",
    "        feature_vec, channel_num= 2,\n",
    "        ):  # type: ignore # noqa \n",
    "\n",
    "    assert channel_num in (1, 2)\n",
    "    feature_vec = feature_vec.astype(np.float32)\n",
    "    V = np.sort(feature_vec, axis=0)\n",
    "    ind = np.argsort(feature_vec, axis=0)\n",
    "    ratios_each_nch = []\n",
    "    for nch in range(1, channel_num + 1):\n",
    "        # iter over possible channel number\n",
    "        # calculate probability of this channel number\n",
    "        s_ = V[-nch:, :].min(axis=0)\n",
    "        n_ = V[:-nch, :].max(axis=0)\n",
    "        r_ = (s_ + 1) / (n_ + 1)\n",
    "        ratios_each_nch.append(r_)\n",
    "    if channel_num == 1:\n",
    "        ratio = r_\n",
    "        channel_idx = ind[-1, :][np.newaxis, :]\n",
    "    else:\n",
    "        # calculate the most possible channel number\n",
    "        ratios_each_nch = np.stack(ratios_each_nch)\n",
    "        nch_max = np.argmax(ratios_each_nch, axis=0)\n",
    "        channel_idx: np.ndarray = np.where(\n",
    "            nch_max == 0,\n",
    "            np.tile(ind[-1, :], (channel_num, 1)),\n",
    "            ind[-channel_num:, :]\n",
    "        )\n",
    "        channel_idx.sort(axis=0)\n",
    "        ratio = np.choose(nch_max, ratios_each_nch)\n",
    "    e_ = np.exp(ratio)\n",
    "    e_[e_ == np.inf] = 1e10\n",
    "    prob = (e_ - 1) / (e_ + 1)\n",
    "    return channel_idx, prob\n",
    "\n",
    "def decode(\n",
    "        channel_idx, code_to_gene,\n",
    "        channel_order = \"ACGT\") :  # type: ignore\n",
    "\n",
    "    seq_order = np.array(list(channel_order))\n",
    "    channel_seq = seq_order[channel_idx]\n",
    "    df_ = pd.DataFrame(channel_seq).T\n",
    "    seq = df_.sum(axis=1)\n",
    "    # fill N in code_to_gene\n",
    "    filled = copy(code_to_gene)\n",
    "    for code, gene in code_to_gene.items():\n",
    "        if 'N' not in code:\n",
    "            continue\n",
    "        filled.pop(code)\n",
    "        for exp_code in expand_N(code):\n",
    "            filled[exp_code] = gene\n",
    "    # set not exist gene to unknow\n",
    "    for c in seq.unique():\n",
    "        if c not in filled:\n",
    "            filled[c] = \"unknow\"\n",
    "    df_c2g = pd.DataFrame(filled.items(), columns=['code', 'gene'])\n",
    "    df_c2g.index = df_c2g['code']\n",
    "    gene = df_c2g.loc[seq]['gene']\n",
    "    return gene.values, gene.index.values\n",
    "\n",
    "def gene_table(\n",
    "        coords, probs,\n",
    "        decoded, codes,\n",
    "        ) :  # noqa\n",
    "    \"\"\"Construct gene result table\"\"\"\n",
    "    columns = {}\n",
    "    for col in range(coords.shape[1]):\n",
    "        columns[f'dim_{col}'] = coords[:, col]\n",
    "    columns.update({\n",
    "        'gene': decoded,\n",
    "        'codes': codes,\n",
    "    })\n",
    "    if not isinstance(probs, list):\n",
    "        probs = [probs]\n",
    "    for col, prob in enumerate(probs):\n",
    "        columns[f'probability_{col}'] = prob\n",
    "    return pd.DataFrame(columns)\n",
    "\n",
    "def GetImageData(img):\n",
    "    return img.data\n",
    "\n",
    "def gene_to_cell(\n",
    "        gene_table,\n",
    "        cell_mask,\n",
    "        dist_thresh= 30.0,\n",
    "        max_iter= 5,\n",
    "        dist_step= 10.0,\n",
    "        ) :  # type: ignore\n",
    "\n",
    "    dims = [c for c in gene_table.columns if c.startswith('dim')]\n",
    "    spots = gene_table[dims].values\n",
    "    related_centers = assign_spots(\n",
    "        spots, cell_mask, dist_thresh,\n",
    "        max_iter=max_iter, iter_dist_step=dist_step)\n",
    "    df_center = pd.DataFrame({\n",
    "        d: related_centers[:, i]\n",
    "        for i, d in enumerate(dims)\n",
    "    }).applymap(\"{:.2f}\".format)\n",
    "    center_ser = \"(\" + df_center.iloc[:, 0]\n",
    "    for i in range(1, len(dims)):\n",
    "        center_ser += (\", \" + df_center.iloc[:, i])\n",
    "    center_ser += \")\"\n",
    "    df = pd.DataFrame({\n",
    "        'gene': gene_table['gene'].values,\n",
    "        'cell': center_ser.values\n",
    "    })\n",
    "    counts = df.value_counts()\n",
    "    exp_mat = counts.unstack(fill_value=0).T\n",
    "    return exp_mat, related_centers\n",
    "\n",
    "def normalize_with_spots(\n",
    "        img,\n",
    "        spots,\n",
    "        ):  # type: ignore  # noqa\n",
    "    new_channels = []\n",
    "    means = []\n",
    "    for idx, s in enumerate(spots):\n",
    "        sub_img = img[idx]\n",
    "        if len(sub_img.shape) == 3:\n",
    "            m = sub_img[s[:, 0], s[:, 1], s[:, 2]].mean()\n",
    "        else:\n",
    "            assert len(sub_img.shape) == 2\n",
    "            m = sub_img[s[:, 0], s[:, 1]].mean()\n",
    "        means.append(m)\n",
    "        new_channels.append(sub_img / m)\n",
    "    new_img = np.stack(new_channels)\n",
    "    return new_img, means\n",
    "\n",
    "def predict_spot(it):\n",
    "    pred_spots, enh_img = ufish.predict(it,axes=\"zyx\",blend_3d=False,intensity_threshold=0.1)\n",
    "    return pred_spots.values\n",
    "\n",
    "def nomorizepic(path):\n",
    "    it=GetImageData(ReadImage(path)) \n",
    "    it=it[0][0][:4].max(axis=1)\n",
    "    pred_spots1 = tophat_extrema(it[0],q=99.50)\n",
    "    pred_spots2 = tophat_extrema(it[1],q=99.50)\n",
    "    pred_spots3 = tophat_extrema(it[2],q=99.50)\n",
    "    pred_spots4 = tophat_extrema(it[3],q=99.50)\n",
    "    listout=[pred_spots1,pred_spots2,pred_spots3,pred_spots4]\n",
    "    it,_ = normalize_with_spots(it,listout)\n",
    "    return it\n",
    "\n",
    "def WriteTiff(img, out_path, dim_order = 'CZYX') :\n",
    "    OmeTiffWriter.save(img, out_path, dim_order=dim_order)\n",
    "    return out_path\n",
    "\n",
    "def tophat_extrema(img: np.ndarray,q):  # noqa\n",
    "    t = skimage.morphology.white_tophat(img)\n",
    "    h = np.quantile(t, q/100)\n",
    "    spots = np.c_[np.where(skimage.morphology.extrema.h_maxima(t, h))]\n",
    "    return spots\n",
    "\n",
    "def analyze(path,dic,q,sub_shape):\n",
    "    it=GetImageData(ReadImage(path))\n",
    "    print(it.shape)  \n",
    "    it=it.reshape(it.shape[2],it.shape[3],it.shape[4],it.shape[5])\n",
    "    it1=it[:4].max(axis=0)\n",
    "    it2=it[:4]\n",
    "    pred_spots = tophat_extrema(it1,q=q)\n",
    "    output=merge_spots(pred_spots,1)\n",
    "    output=output.astype(int)\n",
    "    # fetures=extract_fetures(it2,output,sub_shape=\"(3, 3, 3)\")\n",
    "    # fetures=fetures.mean(axis=(2,3,4))\n",
    "    if sub_shape == 'None':\n",
    "        fetures=extract_fetures(it2,output,sub_shape=sub_shape)\n",
    "    else:\n",
    "        fetures=extract_fetures(it2,output,sub_shape=sub_shape)\n",
    "        fetures=fetures.mean(axis=(2,3,4))\n",
    "    channel_idx, prob=parse_one_cycle(fetures,2)\n",
    "    decoded,codes = decode(channel_idx,dic)\n",
    "    table=gene_table(output,prob,decoded,codes)\n",
    "    return table\n",
    "\n",
    "def ufish_analyze(path,dic):\n",
    "    it=GetImageData(ReadImage(path))  \n",
    "    print(it.shape)\n",
    "    it=it[0][0]\n",
    "    # pred_spots, enh_img = ufish.predict(it,axes=\"czyx\",blend_3d=False,intensity_threshold=0.5)\n",
    "    # it=enh_img\n",
    "    it1=it[:3].max(axis=0)\n",
    "    it2=it[:3]\n",
    "    pred_spots, enh_img = ufish.predict(it1,axes=\"zyx\",blend_3d=False,intensity_threshold=0.2)\n",
    "    output=merge_spots(pred_spots.values,1)\n",
    "    output=output.astype(int)\n",
    "    fetures=extract_fetures(it2,output,sub_shape=\"(3, 3, 3)\")\n",
    "    fetures=fetures.mean(axis=(2,3,4))\n",
    "    channel_idx, prob=parse_one_cycle(fetures,2)\n",
    "    decoded,codes = decode(channel_idx, dic, channel_order=\"CGT\")\n",
    "    table=gene_table(output,prob,decoded,codes)\n",
    "    return table"
   ]
  },
  {
   "cell_type": "code",
   "execution_count": 6,
   "metadata": {},
   "outputs": [],
   "source": [
    "A = {\"CC\":\"CD68\",\n",
    "\"GG\":\"LYZ\",\n",
    "\"TT\":\"CD3E\",\n",
    "\"CG\":\"B646L\"}"
   ]
  },
  {
   "cell_type": "code",
   "execution_count": 7,
   "metadata": {},
   "outputs": [],
   "source": [
    "import pandas as pd"
   ]
  },
  {
   "cell_type": "code",
   "execution_count": 12,
   "metadata": {},
   "outputs": [
    {
     "name": "stdout",
     "output_type": "stream",
     "text": [
      "A2-1.tif\n",
      "(1, 1, 4, 1, 1936, 1940)\n"
     ]
    },
    {
     "name": "stderr",
     "output_type": "stream",
     "text": [
      "\u001b[32m2024-04-23 09:32:45.795\u001b[0m | \u001b[33m\u001b[1mWARNING \u001b[0m | \u001b[36mufish.utils.img\u001b[0m:\u001b[36mscale_image\u001b[0m:\u001b[36m31\u001b[0m - \u001b[33m\u001b[1mImage has outlier values. \u001b[0m\n"
     ]
    },
    {
     "name": "stdout",
     "output_type": "stream",
     "text": [
      "A2-2.tif\n",
      "(1, 1, 4, 1, 1914, 1942)\n",
      "A2-3.tif\n",
      "(1, 1, 4, 1, 1932, 1941)\n",
      "A3-1.tif\n",
      "(1, 1, 4, 1, 2042, 2014)\n",
      "A3-2.tif\n",
      "(1, 1, 4, 1, 1955, 1944)\n",
      "A3-3.tif\n",
      "(1, 1, 4, 1, 1938, 1942)\n",
      "A4-1.tif\n",
      "(1, 1, 4, 1, 1970, 1940)\n",
      "A4-2.tif\n",
      "(1, 1, 4, 1, 1970, 1942)\n",
      "A4-3.tif\n",
      "(1, 1, 4, 1, 1914, 1944)\n",
      "A5-1.tif\n",
      "(1, 1, 4, 1, 1910, 1941)\n",
      "A5-2.tif\n",
      "(1, 1, 4, 1, 1949, 1942)\n",
      "A5-3.tif\n",
      "(1, 1, 4, 1, 1905, 1940)\n",
      "A6-1.tif\n",
      "(1, 1, 4, 1, 1970, 1947)\n",
      "A6-2.tif\n",
      "(1, 1, 4, 1, 1976, 1945)\n",
      "A6-3.tif\n",
      "(1, 1, 4, 1, 1902, 1944)\n"
     ]
    }
   ],
   "source": [
    "asfv_path = '脾脏/ASFV'\n",
    "files = os.listdir(asfv_path)\n",
    "\n",
    "for file in files:\n",
    "    print(file)\n",
    "    path = os.path.join(asfv_path, file)\n",
    "    table = ufish_analyze(path, A)\n",
    "    csv = file.split('.')[0]\n",
    "    table.to_csv(f'./results_pizang/ASFV/spots/{csv}.csv', index=None)"
   ]
  },
  {
   "cell_type": "code",
   "execution_count": 28,
   "metadata": {},
   "outputs": [],
   "source": [
    "samples = [\"A2-1\", \"A2-2\", \"A2-3\", \"A3-1\", \"A3-2\",\"A3-3\", \"A4-1\",\"A4-2\", \"A4-3\", \"A5-1\", \"A5-2\", \"A5-3\", \"A6-1\", \"A6-2\", \"A6-3\"]"
   ]
  },
  {
   "cell_type": "code",
   "execution_count": 19,
   "metadata": {},
   "outputs": [
    {
     "name": "stderr",
     "output_type": "stream",
     "text": [
      "C:\\Users\\woikaka\\AppData\\Local\\Temp\\ipykernel_25296\\2180010380.py:304: FutureWarning: DataFrame.applymap has been deprecated. Use DataFrame.map instead.\n",
      "  }).applymap(\"{:.2f}\".format)\n",
      "C:\\Users\\woikaka\\AppData\\Local\\Temp\\ipykernel_25296\\2180010380.py:304: FutureWarning: DataFrame.applymap has been deprecated. Use DataFrame.map instead.\n",
      "  }).applymap(\"{:.2f}\".format)\n",
      "C:\\Users\\woikaka\\AppData\\Local\\Temp\\ipykernel_25296\\2180010380.py:304: FutureWarning: DataFrame.applymap has been deprecated. Use DataFrame.map instead.\n",
      "  }).applymap(\"{:.2f}\".format)\n",
      "C:\\Users\\woikaka\\AppData\\Local\\Temp\\ipykernel_25296\\2180010380.py:304: FutureWarning: DataFrame.applymap has been deprecated. Use DataFrame.map instead.\n",
      "  }).applymap(\"{:.2f}\".format)\n",
      "C:\\Users\\woikaka\\AppData\\Local\\Temp\\ipykernel_25296\\2180010380.py:304: FutureWarning: DataFrame.applymap has been deprecated. Use DataFrame.map instead.\n",
      "  }).applymap(\"{:.2f}\".format)\n",
      "C:\\Users\\woikaka\\AppData\\Local\\Temp\\ipykernel_25296\\2180010380.py:304: FutureWarning: DataFrame.applymap has been deprecated. Use DataFrame.map instead.\n",
      "  }).applymap(\"{:.2f}\".format)\n",
      "C:\\Users\\woikaka\\AppData\\Local\\Temp\\ipykernel_25296\\2180010380.py:304: FutureWarning: DataFrame.applymap has been deprecated. Use DataFrame.map instead.\n",
      "  }).applymap(\"{:.2f}\".format)\n",
      "C:\\Users\\woikaka\\AppData\\Local\\Temp\\ipykernel_25296\\2180010380.py:304: FutureWarning: DataFrame.applymap has been deprecated. Use DataFrame.map instead.\n",
      "  }).applymap(\"{:.2f}\".format)\n",
      "C:\\Users\\woikaka\\AppData\\Local\\Temp\\ipykernel_25296\\2180010380.py:304: FutureWarning: DataFrame.applymap has been deprecated. Use DataFrame.map instead.\n",
      "  }).applymap(\"{:.2f}\".format)\n",
      "C:\\Users\\woikaka\\AppData\\Local\\Temp\\ipykernel_25296\\2180010380.py:304: FutureWarning: DataFrame.applymap has been deprecated. Use DataFrame.map instead.\n",
      "  }).applymap(\"{:.2f}\".format)\n",
      "C:\\Users\\woikaka\\AppData\\Local\\Temp\\ipykernel_25296\\2180010380.py:304: FutureWarning: DataFrame.applymap has been deprecated. Use DataFrame.map instead.\n",
      "  }).applymap(\"{:.2f}\".format)\n",
      "C:\\Users\\woikaka\\AppData\\Local\\Temp\\ipykernel_25296\\2180010380.py:304: FutureWarning: DataFrame.applymap has been deprecated. Use DataFrame.map instead.\n",
      "  }).applymap(\"{:.2f}\".format)\n",
      "C:\\Users\\woikaka\\AppData\\Local\\Temp\\ipykernel_25296\\2180010380.py:304: FutureWarning: DataFrame.applymap has been deprecated. Use DataFrame.map instead.\n",
      "  }).applymap(\"{:.2f}\".format)\n",
      "C:\\Users\\woikaka\\AppData\\Local\\Temp\\ipykernel_25296\\2180010380.py:304: FutureWarning: DataFrame.applymap has been deprecated. Use DataFrame.map instead.\n",
      "  }).applymap(\"{:.2f}\".format)\n",
      "C:\\Users\\woikaka\\AppData\\Local\\Temp\\ipykernel_25296\\2180010380.py:304: FutureWarning: DataFrame.applymap has been deprecated. Use DataFrame.map instead.\n",
      "  }).applymap(\"{:.2f}\".format)\n"
     ]
    }
   ],
   "source": [
    "mask_path = './results_pizang/ASFV/masks'\n",
    "csv_path = './results_pizang/ASFV/spots'\n",
    "\n",
    "for sample in samples:\n",
    "    mask = imread(os.path.join(mask_path, f'{sample}.tif'))\n",
    "    spots = pd.read_csv(os.path.join(csv_path, f'{sample}.csv'))\n",
    "    spots = spots.drop(columns=['dim_0'])    \n",
    "    gene2cell,related_ct=gene_to_cell(spots, mask)\n",
    "    spots[\"0\"]=related_ct[:,0]\n",
    "    spots[\"1\"]=related_ct[:,1]\n",
    "    spots.dropna(subset=['0'],inplace=True)\n",
    "    name = f\"./results_pizang/ASFV/spots/{sample}_cellspots.csv\"\n",
    "    spots.to_csv(name,index=False)\n",
    "    gene2cell.to_csv(f\"./results_pizang/ASFV/{sample}-gene_to_cell.csv\")"
   ]
  },
  {
   "cell_type": "code",
   "execution_count": 21,
   "metadata": {},
   "outputs": [],
   "source": [
    "ctrl = {0: 'CD68', 1: 'LYZ', 2: 'CD3E'}"
   ]
  },
  {
   "cell_type": "code",
   "execution_count": 35,
   "metadata": {},
   "outputs": [
    {
     "name": "stdout",
     "output_type": "stream",
     "text": [
      "        axis-0  axis-1\n",
      "axis-2                \n",
      "0           10     962\n",
      "0           11    1049\n",
      "0           13     742\n",
      "0           13    1689\n",
      "0           14     651\n",
      "...        ...     ...\n",
      "3         1815    1267\n",
      "3         1916    1634\n",
      "3         1935    1176\n",
      "3         1949    1127\n",
      "3         1949    1134\n",
      "\n",
      "[4335 rows x 2 columns]\n",
      "        axis-0  axis-1\n",
      "axis-2                \n",
      "0           32    1081\n",
      "0           36    1506\n",
      "0           51    1182\n",
      "0           58     121\n",
      "0           76      58\n",
      "...        ...     ...\n",
      "3         1402    1930\n",
      "3         1450    1781\n",
      "3         1455    1934\n",
      "3         1654     265\n",
      "3         1745    1271\n",
      "\n",
      "[3106 rows x 2 columns]\n",
      "        axis-0  axis-1\n",
      "axis-2                \n",
      "0            6    1556\n",
      "0           11    1550\n",
      "0           18    1643\n",
      "0           23    1348\n",
      "0           24      69\n",
      "...        ...     ...\n",
      "3         1280     805\n",
      "3         1497    1930\n",
      "3         1499    1201\n",
      "3         1624     225\n",
      "3         1746    1919\n",
      "\n",
      "[2961 rows x 2 columns]\n",
      "        axis-0  axis-1\n",
      "axis-2                \n",
      "0            6    1141\n",
      "0            7    1432\n",
      "0            7    1438\n",
      "0           11    1137\n",
      "0           12    1897\n",
      "...        ...     ...\n",
      "3         1478    1799\n",
      "3         1535    1849\n",
      "3         1577    1796\n",
      "3         1699     583\n",
      "3         1877    1617\n",
      "\n",
      "[3455 rows x 2 columns]\n",
      "        axis-0  axis-1\n",
      "axis-2                \n",
      "0           17     283\n",
      "0           18     854\n",
      "0           69    1254\n",
      "0          100      98\n",
      "0          134    1825\n",
      "...        ...     ...\n",
      "3          683     935\n",
      "3          822     809\n",
      "3         1051     104\n",
      "3         1155     904\n",
      "3         1807     863\n",
      "\n",
      "[3436 rows x 2 columns]\n",
      "        axis-0  axis-1\n",
      "axis-2                \n",
      "0           11    1833\n",
      "0           12    1403\n",
      "0           12    1430\n",
      "0           12    1857\n",
      "0           22    1406\n",
      "...        ...     ...\n",
      "3         1240    1279\n",
      "3         1278     415\n",
      "3         1302       3\n",
      "3         1463    1277\n",
      "3         1728    1049\n",
      "\n",
      "[2515 rows x 2 columns]\n",
      "        axis-0  axis-1\n",
      "axis-2                \n",
      "0            5    1666\n",
      "0           10    1330\n",
      "0           10    1877\n",
      "0           33    1390\n",
      "0           74    1662\n",
      "...        ...     ...\n",
      "3          967     504\n",
      "3         1090      44\n",
      "3         1336    1372\n",
      "3         1603     639\n",
      "3         1657    1276\n",
      "\n",
      "[1253 rows x 2 columns]\n",
      "        axis-0  axis-1\n",
      "axis-2                \n",
      "0            9     973\n",
      "0           11    1248\n",
      "0           17     767\n",
      "0           42    1763\n",
      "0           86    1348\n",
      "...        ...     ...\n",
      "3         1859    1614\n",
      "3         1864    1658\n",
      "3         1868    1842\n",
      "3         1946    1261\n",
      "3         1947    1315\n",
      "\n",
      "[1564 rows x 2 columns]\n",
      "        axis-0  axis-1\n",
      "axis-2                \n",
      "0           58    1499\n",
      "0           96     259\n",
      "0           99    1307\n",
      "0          144    1315\n",
      "0          150     447\n",
      "...        ...     ...\n",
      "3         1270    1280\n",
      "3         1411    1561\n",
      "3         1583     865\n",
      "3         1695     741\n",
      "3         1831     272\n",
      "\n",
      "[1308 rows x 2 columns]\n",
      "        axis-0  axis-1\n",
      "axis-2                \n",
      "0           14     281\n",
      "0           15    1091\n",
      "0           17     153\n",
      "0           41     942\n",
      "0           60    1275\n",
      "...        ...     ...\n",
      "2         1964    1619\n",
      "3          600     726\n",
      "3          738     762\n",
      "3         1440     441\n",
      "3         1637    1857\n",
      "\n",
      "[1847 rows x 2 columns]\n",
      "        axis-0  axis-1\n",
      "axis-2                \n",
      "0            5    1567\n",
      "0           10    1553\n",
      "0           10    1560\n",
      "0           10    1563\n",
      "0           13     453\n",
      "...        ...     ...\n",
      "3         1952     367\n",
      "3         1955     207\n",
      "3         1955     611\n",
      "3         1966    1051\n",
      "3         1966    1349\n",
      "\n",
      "[2325 rows x 2 columns]\n",
      "        axis-0  axis-1\n",
      "axis-2                \n",
      "0           59    1865\n",
      "0           84    1234\n",
      "0          109    1883\n",
      "0          127    1297\n",
      "0          140    1361\n",
      "...        ...     ...\n",
      "3         1603    1525\n",
      "3         1625      38\n",
      "3         1646     959\n",
      "3         1790    1664\n",
      "3         1893    1751\n",
      "\n",
      "[1732 rows x 2 columns]\n",
      "        axis-0  axis-1\n",
      "axis-2                \n",
      "0           31     968\n",
      "0           82    1463\n",
      "0           98     736\n",
      "0           99    1271\n",
      "0          180      11\n",
      "...        ...     ...\n",
      "3         1944    1771\n",
      "3         1946    1870\n",
      "3         1946    1922\n",
      "3         1953    1583\n",
      "3         1959    1316\n",
      "\n",
      "[2451 rows x 2 columns]\n",
      "        axis-0  axis-1\n",
      "axis-2                \n",
      "0           10    1238\n",
      "0           25     478\n",
      "0           27     658\n",
      "0           28    1229\n",
      "0           31     768\n",
      "...        ...     ...\n",
      "3         1835    1833\n",
      "3         1850    1057\n",
      "3         1857     936\n",
      "3         1914     865\n",
      "3         1922     921\n",
      "\n",
      "[2536 rows x 2 columns]\n",
      "        axis-0  axis-1\n",
      "axis-2                \n",
      "0           19     741\n",
      "0           56    1642\n",
      "0           67     641\n",
      "0           72     940\n",
      "0          106    1076\n",
      "...        ...     ...\n",
      "3         1634    1775\n",
      "3         1738    1146\n",
      "3         1738    1260\n",
      "3         1805     719\n",
      "3         1850    1776\n",
      "\n",
      "[2312 rows x 2 columns]\n"
     ]
    }
   ],
   "source": [
    "output = './results_pizang/Mock/trans_spots'\n",
    "input = './results_pizang/Mock/spots'\n",
    "\n",
    "files = os.listdir(input)\n",
    "\n",
    "for file in files:\n",
    "    path = f'./{input}/{file}'\n",
    "    df = pd.read_csv(path, header=0, index_col='axis-2')\n",
    "    print(df)\n",
    "\n",
    "    df['gene'] = df.index.map(lambda x: ctrl.get(x, None))\n",
    "    df.to_csv(f'./{output}/{file}', index=None)"
   ]
  },
  {
   "cell_type": "code",
   "execution_count": 30,
   "metadata": {},
   "outputs": [],
   "source": [
    "samples = [\"C1-1\", \"C1-2\", \"C1-3\", \"C2-1\", \"C2-2\", \"C2-3\",\"C4-1\", \"C4-2\", \"C4-3\", \"C5-1\", \"C5-2\", \"C5-3\", \"C6-1\", \"C6-2\", \"C6-3\"]\n"
   ]
  },
  {
   "cell_type": "code",
   "execution_count": 38,
   "metadata": {},
   "outputs": [
    {
     "name": "stdout",
     "output_type": "stream",
     "text": [
      "      dim_1  dim_2  gene\n",
      "0        10    962  CD68\n",
      "1        11   1049  CD68\n",
      "2        13    742  CD68\n",
      "3        13   1689  CD68\n",
      "4        14    651  CD68\n",
      "...     ...    ...   ...\n",
      "4330   1815   1267   NaN\n",
      "4331   1916   1634   NaN\n",
      "4332   1935   1176   NaN\n",
      "4333   1949   1127   NaN\n",
      "4334   1949   1134   NaN\n",
      "\n",
      "[4335 rows x 3 columns]\n"
     ]
    },
    {
     "name": "stderr",
     "output_type": "stream",
     "text": [
      "C:\\Users\\woikaka\\AppData\\Local\\Temp\\ipykernel_25296\\2180010380.py:304: FutureWarning: DataFrame.applymap has been deprecated. Use DataFrame.map instead.\n",
      "  }).applymap(\"{:.2f}\".format)\n"
     ]
    },
    {
     "name": "stdout",
     "output_type": "stream",
     "text": [
      "      dim_1  dim_2  gene\n",
      "0        32   1081  CD68\n",
      "1        36   1506  CD68\n",
      "2        51   1182  CD68\n",
      "3        58    121  CD68\n",
      "4        76     58  CD68\n",
      "...     ...    ...   ...\n",
      "3101   1402   1930   NaN\n",
      "3102   1450   1781   NaN\n",
      "3103   1455   1934   NaN\n",
      "3104   1654    265   NaN\n",
      "3105   1745   1271   NaN\n",
      "\n",
      "[3106 rows x 3 columns]\n"
     ]
    },
    {
     "name": "stderr",
     "output_type": "stream",
     "text": [
      "C:\\Users\\woikaka\\AppData\\Local\\Temp\\ipykernel_25296\\2180010380.py:304: FutureWarning: DataFrame.applymap has been deprecated. Use DataFrame.map instead.\n",
      "  }).applymap(\"{:.2f}\".format)\n"
     ]
    },
    {
     "name": "stdout",
     "output_type": "stream",
     "text": [
      "      dim_1  dim_2  gene\n",
      "0         6   1556  CD68\n",
      "1        11   1550  CD68\n",
      "2        18   1643  CD68\n",
      "3        23   1348  CD68\n",
      "4        24     69  CD68\n",
      "...     ...    ...   ...\n",
      "2956   1280    805   NaN\n",
      "2957   1497   1930   NaN\n",
      "2958   1499   1201   NaN\n",
      "2959   1624    225   NaN\n",
      "2960   1746   1919   NaN\n",
      "\n",
      "[2961 rows x 3 columns]\n"
     ]
    },
    {
     "name": "stderr",
     "output_type": "stream",
     "text": [
      "C:\\Users\\woikaka\\AppData\\Local\\Temp\\ipykernel_25296\\2180010380.py:304: FutureWarning: DataFrame.applymap has been deprecated. Use DataFrame.map instead.\n",
      "  }).applymap(\"{:.2f}\".format)\n"
     ]
    },
    {
     "name": "stdout",
     "output_type": "stream",
     "text": [
      "      dim_1  dim_2  gene\n",
      "0         6   1141  CD68\n",
      "1         7   1432  CD68\n",
      "2         7   1438  CD68\n",
      "3        11   1137  CD68\n",
      "4        12   1897  CD68\n",
      "...     ...    ...   ...\n",
      "3450   1478   1799   NaN\n",
      "3451   1535   1849   NaN\n",
      "3452   1577   1796   NaN\n",
      "3453   1699    583   NaN\n",
      "3454   1877   1617   NaN\n",
      "\n",
      "[3455 rows x 3 columns]\n"
     ]
    },
    {
     "name": "stderr",
     "output_type": "stream",
     "text": [
      "C:\\Users\\woikaka\\AppData\\Local\\Temp\\ipykernel_25296\\2180010380.py:304: FutureWarning: DataFrame.applymap has been deprecated. Use DataFrame.map instead.\n",
      "  }).applymap(\"{:.2f}\".format)\n"
     ]
    },
    {
     "name": "stdout",
     "output_type": "stream",
     "text": [
      "      dim_1  dim_2  gene\n",
      "0        17    283  CD68\n",
      "1        18    854  CD68\n",
      "2        69   1254  CD68\n",
      "3       100     98  CD68\n",
      "4       134   1825  CD68\n",
      "...     ...    ...   ...\n",
      "3431    683    935   NaN\n",
      "3432    822    809   NaN\n",
      "3433   1051    104   NaN\n",
      "3434   1155    904   NaN\n",
      "3435   1807    863   NaN\n",
      "\n",
      "[3436 rows x 3 columns]\n"
     ]
    },
    {
     "name": "stderr",
     "output_type": "stream",
     "text": [
      "C:\\Users\\woikaka\\AppData\\Local\\Temp\\ipykernel_25296\\2180010380.py:304: FutureWarning: DataFrame.applymap has been deprecated. Use DataFrame.map instead.\n",
      "  }).applymap(\"{:.2f}\".format)\n"
     ]
    },
    {
     "name": "stdout",
     "output_type": "stream",
     "text": [
      "      dim_1  dim_2  gene\n",
      "0        11   1833  CD68\n",
      "1        12   1403  CD68\n",
      "2        12   1430  CD68\n",
      "3        12   1857  CD68\n",
      "4        22   1406  CD68\n",
      "...     ...    ...   ...\n",
      "2510   1240   1279   NaN\n",
      "2511   1278    415   NaN\n",
      "2512   1302      3   NaN\n",
      "2513   1463   1277   NaN\n",
      "2514   1728   1049   NaN\n",
      "\n",
      "[2515 rows x 3 columns]\n"
     ]
    },
    {
     "name": "stderr",
     "output_type": "stream",
     "text": [
      "C:\\Users\\woikaka\\AppData\\Local\\Temp\\ipykernel_25296\\2180010380.py:304: FutureWarning: DataFrame.applymap has been deprecated. Use DataFrame.map instead.\n",
      "  }).applymap(\"{:.2f}\".format)\n"
     ]
    },
    {
     "name": "stdout",
     "output_type": "stream",
     "text": [
      "      dim_1  dim_2  gene\n",
      "0         5   1666  CD68\n",
      "1        10   1330  CD68\n",
      "2        10   1877  CD68\n",
      "3        33   1390  CD68\n",
      "4        74   1662  CD68\n",
      "...     ...    ...   ...\n",
      "1248    967    504   NaN\n",
      "1249   1090     44   NaN\n",
      "1250   1336   1372   NaN\n",
      "1251   1603    639   NaN\n",
      "1252   1657   1276   NaN\n",
      "\n",
      "[1253 rows x 3 columns]\n"
     ]
    },
    {
     "name": "stderr",
     "output_type": "stream",
     "text": [
      "C:\\Users\\woikaka\\AppData\\Local\\Temp\\ipykernel_25296\\2180010380.py:304: FutureWarning: DataFrame.applymap has been deprecated. Use DataFrame.map instead.\n",
      "  }).applymap(\"{:.2f}\".format)\n"
     ]
    },
    {
     "name": "stdout",
     "output_type": "stream",
     "text": [
      "      dim_1  dim_2  gene\n",
      "0         9    973  CD68\n",
      "1        11   1248  CD68\n",
      "2        17    767  CD68\n",
      "3        42   1763  CD68\n",
      "4        86   1348  CD68\n",
      "...     ...    ...   ...\n",
      "1559   1859   1614   NaN\n",
      "1560   1864   1658   NaN\n",
      "1561   1868   1842   NaN\n",
      "1562   1946   1261   NaN\n",
      "1563   1947   1315   NaN\n",
      "\n",
      "[1564 rows x 3 columns]\n"
     ]
    },
    {
     "name": "stderr",
     "output_type": "stream",
     "text": [
      "C:\\Users\\woikaka\\AppData\\Local\\Temp\\ipykernel_25296\\2180010380.py:304: FutureWarning: DataFrame.applymap has been deprecated. Use DataFrame.map instead.\n",
      "  }).applymap(\"{:.2f}\".format)\n"
     ]
    },
    {
     "name": "stdout",
     "output_type": "stream",
     "text": [
      "      dim_1  dim_2  gene\n",
      "0        58   1499  CD68\n",
      "1        96    259  CD68\n",
      "2        99   1307  CD68\n",
      "3       144   1315  CD68\n",
      "4       150    447  CD68\n",
      "...     ...    ...   ...\n",
      "1303   1270   1280   NaN\n",
      "1304   1411   1561   NaN\n",
      "1305   1583    865   NaN\n",
      "1306   1695    741   NaN\n",
      "1307   1831    272   NaN\n",
      "\n",
      "[1308 rows x 3 columns]\n"
     ]
    },
    {
     "name": "stderr",
     "output_type": "stream",
     "text": [
      "C:\\Users\\woikaka\\AppData\\Local\\Temp\\ipykernel_25296\\2180010380.py:304: FutureWarning: DataFrame.applymap has been deprecated. Use DataFrame.map instead.\n",
      "  }).applymap(\"{:.2f}\".format)\n"
     ]
    },
    {
     "name": "stdout",
     "output_type": "stream",
     "text": [
      "      dim_1  dim_2  gene\n",
      "0        14    281  CD68\n",
      "1        15   1091  CD68\n",
      "2        17    153  CD68\n",
      "3        41    942  CD68\n",
      "4        60   1275  CD68\n",
      "...     ...    ...   ...\n",
      "1842   1964   1619  CD3E\n",
      "1843    600    726   NaN\n",
      "1844    738    762   NaN\n",
      "1845   1440    441   NaN\n",
      "1846   1637   1857   NaN\n",
      "\n",
      "[1847 rows x 3 columns]\n"
     ]
    },
    {
     "name": "stderr",
     "output_type": "stream",
     "text": [
      "C:\\Users\\woikaka\\AppData\\Local\\Temp\\ipykernel_25296\\2180010380.py:304: FutureWarning: DataFrame.applymap has been deprecated. Use DataFrame.map instead.\n",
      "  }).applymap(\"{:.2f}\".format)\n"
     ]
    },
    {
     "name": "stdout",
     "output_type": "stream",
     "text": [
      "      dim_1  dim_2  gene\n",
      "0         5   1567  CD68\n",
      "1        10   1553  CD68\n",
      "2        10   1560  CD68\n",
      "3        10   1563  CD68\n",
      "4        13    453  CD68\n",
      "...     ...    ...   ...\n",
      "2320   1952    367   NaN\n",
      "2321   1955    207   NaN\n",
      "2322   1955    611   NaN\n",
      "2323   1966   1051   NaN\n",
      "2324   1966   1349   NaN\n",
      "\n",
      "[2325 rows x 3 columns]\n"
     ]
    },
    {
     "name": "stderr",
     "output_type": "stream",
     "text": [
      "C:\\Users\\woikaka\\AppData\\Local\\Temp\\ipykernel_25296\\2180010380.py:304: FutureWarning: DataFrame.applymap has been deprecated. Use DataFrame.map instead.\n",
      "  }).applymap(\"{:.2f}\".format)\n"
     ]
    },
    {
     "name": "stdout",
     "output_type": "stream",
     "text": [
      "      dim_1  dim_2  gene\n",
      "0        59   1865  CD68\n",
      "1        84   1234  CD68\n",
      "2       109   1883  CD68\n",
      "3       127   1297  CD68\n",
      "4       140   1361  CD68\n",
      "...     ...    ...   ...\n",
      "1727   1603   1525   NaN\n",
      "1728   1625     38   NaN\n",
      "1729   1646    959   NaN\n",
      "1730   1790   1664   NaN\n",
      "1731   1893   1751   NaN\n",
      "\n",
      "[1732 rows x 3 columns]\n"
     ]
    },
    {
     "name": "stderr",
     "output_type": "stream",
     "text": [
      "C:\\Users\\woikaka\\AppData\\Local\\Temp\\ipykernel_25296\\2180010380.py:304: FutureWarning: DataFrame.applymap has been deprecated. Use DataFrame.map instead.\n",
      "  }).applymap(\"{:.2f}\".format)\n"
     ]
    },
    {
     "name": "stdout",
     "output_type": "stream",
     "text": [
      "      dim_1  dim_2  gene\n",
      "0        31    968  CD68\n",
      "1        82   1463  CD68\n",
      "2        98    736  CD68\n",
      "3        99   1271  CD68\n",
      "4       180     11  CD68\n",
      "...     ...    ...   ...\n",
      "2446   1944   1771   NaN\n",
      "2447   1946   1870   NaN\n",
      "2448   1946   1922   NaN\n",
      "2449   1953   1583   NaN\n",
      "2450   1959   1316   NaN\n",
      "\n",
      "[2451 rows x 3 columns]\n"
     ]
    },
    {
     "name": "stderr",
     "output_type": "stream",
     "text": [
      "C:\\Users\\woikaka\\AppData\\Local\\Temp\\ipykernel_25296\\2180010380.py:304: FutureWarning: DataFrame.applymap has been deprecated. Use DataFrame.map instead.\n",
      "  }).applymap(\"{:.2f}\".format)\n"
     ]
    },
    {
     "name": "stdout",
     "output_type": "stream",
     "text": [
      "      dim_1  dim_2  gene\n",
      "0        10   1238  CD68\n",
      "1        25    478  CD68\n",
      "2        27    658  CD68\n",
      "3        28   1229  CD68\n",
      "4        31    768  CD68\n",
      "...     ...    ...   ...\n",
      "2531   1835   1833   NaN\n",
      "2532   1850   1057   NaN\n",
      "2533   1857    936   NaN\n",
      "2534   1914    865   NaN\n",
      "2535   1922    921   NaN\n",
      "\n",
      "[2536 rows x 3 columns]\n"
     ]
    },
    {
     "name": "stderr",
     "output_type": "stream",
     "text": [
      "C:\\Users\\woikaka\\AppData\\Local\\Temp\\ipykernel_25296\\2180010380.py:304: FutureWarning: DataFrame.applymap has been deprecated. Use DataFrame.map instead.\n",
      "  }).applymap(\"{:.2f}\".format)\n"
     ]
    },
    {
     "name": "stdout",
     "output_type": "stream",
     "text": [
      "      dim_1  dim_2  gene\n",
      "0        19    741  CD68\n",
      "1        56   1642  CD68\n",
      "2        67    641  CD68\n",
      "3        72    940  CD68\n",
      "4       106   1076  CD68\n",
      "...     ...    ...   ...\n",
      "2307   1634   1775   NaN\n",
      "2308   1738   1146   NaN\n",
      "2309   1738   1260   NaN\n",
      "2310   1805    719   NaN\n",
      "2311   1850   1776   NaN\n",
      "\n",
      "[2312 rows x 3 columns]\n"
     ]
    },
    {
     "name": "stderr",
     "output_type": "stream",
     "text": [
      "C:\\Users\\woikaka\\AppData\\Local\\Temp\\ipykernel_25296\\2180010380.py:304: FutureWarning: DataFrame.applymap has been deprecated. Use DataFrame.map instead.\n",
      "  }).applymap(\"{:.2f}\".format)\n"
     ]
    }
   ],
   "source": [
    "output = './results_pizang/Mock/trans_spots/'\n",
    "mask_dir= f'./results_pizang/Mock/masks/'\n",
    "\n",
    "for sample in samples:\n",
    "    csv_path = os.path.join(output, f'{sample}.pred.csv')\n",
    "    con = pd.read_csv(csv_path, header=0, names=['dim_1', 'dim_2', 'gene'])\n",
    "    print(con)\n",
    "    mask_path = f'{mask_dir}/{sample}.tif'\n",
    "    mask = imread(mask_path)\n",
    "    gene2cell,related_ct=gene_to_cell(con,mask)\n",
    "    con[\"0\"]=related_ct[:,0]\n",
    "    con[\"1\"]=related_ct[:,1]\n",
    "    con.dropna(subset=['0'],inplace=True)\n",
    "    con.to_csv(f'./results_pizang/Mock/{sample}-dropdapi.csv',index=False)\n",
    "    gene2cell.to_csv(f\"./results_pizang/Mock/{sample}-gene_to_cell.csv\")"
   ]
  }
 ],
 "metadata": {
  "kernelspec": {
   "display_name": "Python 3",
   "language": "python",
   "name": "python3"
  },
  "language_info": {
   "codemirror_mode": {
    "name": "ipython",
    "version": 3
   },
   "file_extension": ".py",
   "mimetype": "text/x-python",
   "name": "python",
   "nbconvert_exporter": "python",
   "pygments_lexer": "ipython3",
   "version": "3.10.6"
  }
 },
 "nbformat": 4,
 "nbformat_minor": 2
}
